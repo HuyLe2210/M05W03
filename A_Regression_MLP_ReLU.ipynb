{
  "nbformat": 4,
  "nbformat_minor": 0,
  "metadata": {
    "colab": {
      "provenance": []
    },
    "kernelspec": {
      "name": "python3",
      "display_name": "Python 3"
    },
    "language_info": {
      "name": "python"
    }
  },
  "cells": [
    {
      "cell_type": "markdown",
      "source": [
        "## **0. Download dataset**"
      ],
      "metadata": {
        "id": "-fgAzTdycBOK"
      }
    },
    {
      "cell_type": "code",
      "execution_count": 1,
      "metadata": {
        "colab": {
          "base_uri": "https://localhost:8080/"
        },
        "id": "XN3I1ooVbuU_",
        "outputId": "9fba5609-bc80-48d2-f332-3ad367df1243"
      },
      "outputs": [
        {
          "output_type": "stream",
          "name": "stdout",
          "text": [
            "/usr/local/lib/python3.10/dist-packages/gdown/__main__.py:140: FutureWarning: Option `--id` was deprecated in version 4.3.1 and will be removed in 5.0. You don't need to pass it anymore to use a file ID.\n",
            "  warnings.warn(\n",
            "Downloading...\n",
            "From: https://drive.google.com/uc?id=1qiUDDoYyRLBiKOoYWdFl_5WByHE8Cugu\n",
            "To: /content/Auto_MPG_data.csv\n",
            "100% 15.4k/15.4k [00:00<00:00, 25.5MB/s]\n"
          ]
        }
      ],
      "source": [
        "# https://drive.google.com/file/d/1qiUDDoYyRLBiKOoYWdFl_5WByHE8Cugu/view?usp=sharing\n",
        "!gdown --id 1qiUDDoYyRLBiKOoYWdFl_5WByHE8Cugu"
      ]
    },
    {
      "cell_type": "markdown",
      "source": [
        "## **1. Import libraries**"
      ],
      "metadata": {
        "id": "b_HCPvjfcG2Q"
      }
    },
    {
      "cell_type": "code",
      "source": [
        "import numpy as np\n",
        "import pandas as pd\n",
        "import matplotlib.pyplot as plt\n",
        "import torch\n",
        "import torch.nn as nn\n",
        "import torch.nn.functional as F\n",
        "from torch.utils.data import Dataset, DataLoader\n",
        "\n",
        "from sklearn.model_selection import train_test_split\n",
        "from sklearn.preprocessing import StandardScaler\n",
        "\n",
        "device = torch.device('cuda:0' if torch.cuda.is_available() else 'cpu')\n",
        "random_state = 59\n",
        "np.random.seed(random_state)\n",
        "torch.manual_seed(random_state)\n",
        "if torch.cuda.is_available():\n",
        "    torch.cuda.manual_seed(random_state)"
      ],
      "metadata": {
        "id": "wzHEUZqrcNyn"
      },
      "execution_count": 2,
      "outputs": []
    },
    {
      "cell_type": "markdown",
      "source": [
        "## **2. Read dataset**"
      ],
      "metadata": {
        "id": "VJraVfYbeE_a"
      }
    },
    {
      "cell_type": "code",
      "source": [
        "dataset_path = '/content/Auto_MPG_data.csv'\n",
        "dataset = pd.read_csv(dataset_path)\n",
        "dataset"
      ],
      "metadata": {
        "colab": {
          "base_uri": "https://localhost:8080/",
          "height": 423
        },
        "id": "iLQnaI58eJ11",
        "outputId": "ba1609d9-cadb-4230-bf3f-72fb28dc1d81"
      },
      "execution_count": 3,
      "outputs": [
        {
          "output_type": "execute_result",
          "data": {
            "text/plain": [
              "      MPG  Cylinders  Displacement  Horsepower  Weight  Acceleration  \\\n",
              "0    18.0          8         307.0       130.0  3504.0          12.0   \n",
              "1    15.0          8         350.0       165.0  3693.0          11.5   \n",
              "2    18.0          8         318.0       150.0  3436.0          11.0   \n",
              "3    16.0          8         304.0       150.0  3433.0          12.0   \n",
              "4    17.0          8         302.0       140.0  3449.0          10.5   \n",
              "..    ...        ...           ...         ...     ...           ...   \n",
              "387  27.0          4         140.0        86.0  2790.0          15.6   \n",
              "388  44.0          4          97.0        52.0  2130.0          24.6   \n",
              "389  32.0          4         135.0        84.0  2295.0          11.6   \n",
              "390  28.0          4         120.0        79.0  2625.0          18.6   \n",
              "391  31.0          4         119.0        82.0  2720.0          19.4   \n",
              "\n",
              "     Model Year  Europe  Japan  USA  \n",
              "0            70       0      0    1  \n",
              "1            70       0      0    1  \n",
              "2            70       0      0    1  \n",
              "3            70       0      0    1  \n",
              "4            70       0      0    1  \n",
              "..          ...     ...    ...  ...  \n",
              "387          82       0      0    1  \n",
              "388          82       1      0    0  \n",
              "389          82       0      0    1  \n",
              "390          82       0      0    1  \n",
              "391          82       0      0    1  \n",
              "\n",
              "[392 rows x 10 columns]"
            ],
            "text/html": [
              "\n",
              "  <div id=\"df-90a55dc1-b82c-483c-b3bf-8a4be0f7a981\" class=\"colab-df-container\">\n",
              "    <div>\n",
              "<style scoped>\n",
              "    .dataframe tbody tr th:only-of-type {\n",
              "        vertical-align: middle;\n",
              "    }\n",
              "\n",
              "    .dataframe tbody tr th {\n",
              "        vertical-align: top;\n",
              "    }\n",
              "\n",
              "    .dataframe thead th {\n",
              "        text-align: right;\n",
              "    }\n",
              "</style>\n",
              "<table border=\"1\" class=\"dataframe\">\n",
              "  <thead>\n",
              "    <tr style=\"text-align: right;\">\n",
              "      <th></th>\n",
              "      <th>MPG</th>\n",
              "      <th>Cylinders</th>\n",
              "      <th>Displacement</th>\n",
              "      <th>Horsepower</th>\n",
              "      <th>Weight</th>\n",
              "      <th>Acceleration</th>\n",
              "      <th>Model Year</th>\n",
              "      <th>Europe</th>\n",
              "      <th>Japan</th>\n",
              "      <th>USA</th>\n",
              "    </tr>\n",
              "  </thead>\n",
              "  <tbody>\n",
              "    <tr>\n",
              "      <th>0</th>\n",
              "      <td>18.0</td>\n",
              "      <td>8</td>\n",
              "      <td>307.0</td>\n",
              "      <td>130.0</td>\n",
              "      <td>3504.0</td>\n",
              "      <td>12.0</td>\n",
              "      <td>70</td>\n",
              "      <td>0</td>\n",
              "      <td>0</td>\n",
              "      <td>1</td>\n",
              "    </tr>\n",
              "    <tr>\n",
              "      <th>1</th>\n",
              "      <td>15.0</td>\n",
              "      <td>8</td>\n",
              "      <td>350.0</td>\n",
              "      <td>165.0</td>\n",
              "      <td>3693.0</td>\n",
              "      <td>11.5</td>\n",
              "      <td>70</td>\n",
              "      <td>0</td>\n",
              "      <td>0</td>\n",
              "      <td>1</td>\n",
              "    </tr>\n",
              "    <tr>\n",
              "      <th>2</th>\n",
              "      <td>18.0</td>\n",
              "      <td>8</td>\n",
              "      <td>318.0</td>\n",
              "      <td>150.0</td>\n",
              "      <td>3436.0</td>\n",
              "      <td>11.0</td>\n",
              "      <td>70</td>\n",
              "      <td>0</td>\n",
              "      <td>0</td>\n",
              "      <td>1</td>\n",
              "    </tr>\n",
              "    <tr>\n",
              "      <th>3</th>\n",
              "      <td>16.0</td>\n",
              "      <td>8</td>\n",
              "      <td>304.0</td>\n",
              "      <td>150.0</td>\n",
              "      <td>3433.0</td>\n",
              "      <td>12.0</td>\n",
              "      <td>70</td>\n",
              "      <td>0</td>\n",
              "      <td>0</td>\n",
              "      <td>1</td>\n",
              "    </tr>\n",
              "    <tr>\n",
              "      <th>4</th>\n",
              "      <td>17.0</td>\n",
              "      <td>8</td>\n",
              "      <td>302.0</td>\n",
              "      <td>140.0</td>\n",
              "      <td>3449.0</td>\n",
              "      <td>10.5</td>\n",
              "      <td>70</td>\n",
              "      <td>0</td>\n",
              "      <td>0</td>\n",
              "      <td>1</td>\n",
              "    </tr>\n",
              "    <tr>\n",
              "      <th>...</th>\n",
              "      <td>...</td>\n",
              "      <td>...</td>\n",
              "      <td>...</td>\n",
              "      <td>...</td>\n",
              "      <td>...</td>\n",
              "      <td>...</td>\n",
              "      <td>...</td>\n",
              "      <td>...</td>\n",
              "      <td>...</td>\n",
              "      <td>...</td>\n",
              "    </tr>\n",
              "    <tr>\n",
              "      <th>387</th>\n",
              "      <td>27.0</td>\n",
              "      <td>4</td>\n",
              "      <td>140.0</td>\n",
              "      <td>86.0</td>\n",
              "      <td>2790.0</td>\n",
              "      <td>15.6</td>\n",
              "      <td>82</td>\n",
              "      <td>0</td>\n",
              "      <td>0</td>\n",
              "      <td>1</td>\n",
              "    </tr>\n",
              "    <tr>\n",
              "      <th>388</th>\n",
              "      <td>44.0</td>\n",
              "      <td>4</td>\n",
              "      <td>97.0</td>\n",
              "      <td>52.0</td>\n",
              "      <td>2130.0</td>\n",
              "      <td>24.6</td>\n",
              "      <td>82</td>\n",
              "      <td>1</td>\n",
              "      <td>0</td>\n",
              "      <td>0</td>\n",
              "    </tr>\n",
              "    <tr>\n",
              "      <th>389</th>\n",
              "      <td>32.0</td>\n",
              "      <td>4</td>\n",
              "      <td>135.0</td>\n",
              "      <td>84.0</td>\n",
              "      <td>2295.0</td>\n",
              "      <td>11.6</td>\n",
              "      <td>82</td>\n",
              "      <td>0</td>\n",
              "      <td>0</td>\n",
              "      <td>1</td>\n",
              "    </tr>\n",
              "    <tr>\n",
              "      <th>390</th>\n",
              "      <td>28.0</td>\n",
              "      <td>4</td>\n",
              "      <td>120.0</td>\n",
              "      <td>79.0</td>\n",
              "      <td>2625.0</td>\n",
              "      <td>18.6</td>\n",
              "      <td>82</td>\n",
              "      <td>0</td>\n",
              "      <td>0</td>\n",
              "      <td>1</td>\n",
              "    </tr>\n",
              "    <tr>\n",
              "      <th>391</th>\n",
              "      <td>31.0</td>\n",
              "      <td>4</td>\n",
              "      <td>119.0</td>\n",
              "      <td>82.0</td>\n",
              "      <td>2720.0</td>\n",
              "      <td>19.4</td>\n",
              "      <td>82</td>\n",
              "      <td>0</td>\n",
              "      <td>0</td>\n",
              "      <td>1</td>\n",
              "    </tr>\n",
              "  </tbody>\n",
              "</table>\n",
              "<p>392 rows × 10 columns</p>\n",
              "</div>\n",
              "    <div class=\"colab-df-buttons\">\n",
              "\n",
              "  <div class=\"colab-df-container\">\n",
              "    <button class=\"colab-df-convert\" onclick=\"convertToInteractive('df-90a55dc1-b82c-483c-b3bf-8a4be0f7a981')\"\n",
              "            title=\"Convert this dataframe to an interactive table.\"\n",
              "            style=\"display:none;\">\n",
              "\n",
              "  <svg xmlns=\"http://www.w3.org/2000/svg\" height=\"24px\" viewBox=\"0 -960 960 960\">\n",
              "    <path d=\"M120-120v-720h720v720H120Zm60-500h600v-160H180v160Zm220 220h160v-160H400v160Zm0 220h160v-160H400v160ZM180-400h160v-160H180v160Zm440 0h160v-160H620v160ZM180-180h160v-160H180v160Zm440 0h160v-160H620v160Z\"/>\n",
              "  </svg>\n",
              "    </button>\n",
              "\n",
              "  <style>\n",
              "    .colab-df-container {\n",
              "      display:flex;\n",
              "      gap: 12px;\n",
              "    }\n",
              "\n",
              "    .colab-df-convert {\n",
              "      background-color: #E8F0FE;\n",
              "      border: none;\n",
              "      border-radius: 50%;\n",
              "      cursor: pointer;\n",
              "      display: none;\n",
              "      fill: #1967D2;\n",
              "      height: 32px;\n",
              "      padding: 0 0 0 0;\n",
              "      width: 32px;\n",
              "    }\n",
              "\n",
              "    .colab-df-convert:hover {\n",
              "      background-color: #E2EBFA;\n",
              "      box-shadow: 0px 1px 2px rgba(60, 64, 67, 0.3), 0px 1px 3px 1px rgba(60, 64, 67, 0.15);\n",
              "      fill: #174EA6;\n",
              "    }\n",
              "\n",
              "    .colab-df-buttons div {\n",
              "      margin-bottom: 4px;\n",
              "    }\n",
              "\n",
              "    [theme=dark] .colab-df-convert {\n",
              "      background-color: #3B4455;\n",
              "      fill: #D2E3FC;\n",
              "    }\n",
              "\n",
              "    [theme=dark] .colab-df-convert:hover {\n",
              "      background-color: #434B5C;\n",
              "      box-shadow: 0px 1px 3px 1px rgba(0, 0, 0, 0.15);\n",
              "      filter: drop-shadow(0px 1px 2px rgba(0, 0, 0, 0.3));\n",
              "      fill: #FFFFFF;\n",
              "    }\n",
              "  </style>\n",
              "\n",
              "    <script>\n",
              "      const buttonEl =\n",
              "        document.querySelector('#df-90a55dc1-b82c-483c-b3bf-8a4be0f7a981 button.colab-df-convert');\n",
              "      buttonEl.style.display =\n",
              "        google.colab.kernel.accessAllowed ? 'block' : 'none';\n",
              "\n",
              "      async function convertToInteractive(key) {\n",
              "        const element = document.querySelector('#df-90a55dc1-b82c-483c-b3bf-8a4be0f7a981');\n",
              "        const dataTable =\n",
              "          await google.colab.kernel.invokeFunction('convertToInteractive',\n",
              "                                                    [key], {});\n",
              "        if (!dataTable) return;\n",
              "\n",
              "        const docLinkHtml = 'Like what you see? Visit the ' +\n",
              "          '<a target=\"_blank\" href=https://colab.research.google.com/notebooks/data_table.ipynb>data table notebook</a>'\n",
              "          + ' to learn more about interactive tables.';\n",
              "        element.innerHTML = '';\n",
              "        dataTable['output_type'] = 'display_data';\n",
              "        await google.colab.output.renderOutput(dataTable, element);\n",
              "        const docLink = document.createElement('div');\n",
              "        docLink.innerHTML = docLinkHtml;\n",
              "        element.appendChild(docLink);\n",
              "      }\n",
              "    </script>\n",
              "  </div>\n",
              "\n",
              "\n",
              "<div id=\"df-44313947-d6ed-4163-9bd1-d10b6bcc84e8\">\n",
              "  <button class=\"colab-df-quickchart\" onclick=\"quickchart('df-44313947-d6ed-4163-9bd1-d10b6bcc84e8')\"\n",
              "            title=\"Suggest charts\"\n",
              "            style=\"display:none;\">\n",
              "\n",
              "<svg xmlns=\"http://www.w3.org/2000/svg\" height=\"24px\"viewBox=\"0 0 24 24\"\n",
              "     width=\"24px\">\n",
              "    <g>\n",
              "        <path d=\"M19 3H5c-1.1 0-2 .9-2 2v14c0 1.1.9 2 2 2h14c1.1 0 2-.9 2-2V5c0-1.1-.9-2-2-2zM9 17H7v-7h2v7zm4 0h-2V7h2v10zm4 0h-2v-4h2v4z\"/>\n",
              "    </g>\n",
              "</svg>\n",
              "  </button>\n",
              "\n",
              "<style>\n",
              "  .colab-df-quickchart {\n",
              "      --bg-color: #E8F0FE;\n",
              "      --fill-color: #1967D2;\n",
              "      --hover-bg-color: #E2EBFA;\n",
              "      --hover-fill-color: #174EA6;\n",
              "      --disabled-fill-color: #AAA;\n",
              "      --disabled-bg-color: #DDD;\n",
              "  }\n",
              "\n",
              "  [theme=dark] .colab-df-quickchart {\n",
              "      --bg-color: #3B4455;\n",
              "      --fill-color: #D2E3FC;\n",
              "      --hover-bg-color: #434B5C;\n",
              "      --hover-fill-color: #FFFFFF;\n",
              "      --disabled-bg-color: #3B4455;\n",
              "      --disabled-fill-color: #666;\n",
              "  }\n",
              "\n",
              "  .colab-df-quickchart {\n",
              "    background-color: var(--bg-color);\n",
              "    border: none;\n",
              "    border-radius: 50%;\n",
              "    cursor: pointer;\n",
              "    display: none;\n",
              "    fill: var(--fill-color);\n",
              "    height: 32px;\n",
              "    padding: 0;\n",
              "    width: 32px;\n",
              "  }\n",
              "\n",
              "  .colab-df-quickchart:hover {\n",
              "    background-color: var(--hover-bg-color);\n",
              "    box-shadow: 0 1px 2px rgba(60, 64, 67, 0.3), 0 1px 3px 1px rgba(60, 64, 67, 0.15);\n",
              "    fill: var(--button-hover-fill-color);\n",
              "  }\n",
              "\n",
              "  .colab-df-quickchart-complete:disabled,\n",
              "  .colab-df-quickchart-complete:disabled:hover {\n",
              "    background-color: var(--disabled-bg-color);\n",
              "    fill: var(--disabled-fill-color);\n",
              "    box-shadow: none;\n",
              "  }\n",
              "\n",
              "  .colab-df-spinner {\n",
              "    border: 2px solid var(--fill-color);\n",
              "    border-color: transparent;\n",
              "    border-bottom-color: var(--fill-color);\n",
              "    animation:\n",
              "      spin 1s steps(1) infinite;\n",
              "  }\n",
              "\n",
              "  @keyframes spin {\n",
              "    0% {\n",
              "      border-color: transparent;\n",
              "      border-bottom-color: var(--fill-color);\n",
              "      border-left-color: var(--fill-color);\n",
              "    }\n",
              "    20% {\n",
              "      border-color: transparent;\n",
              "      border-left-color: var(--fill-color);\n",
              "      border-top-color: var(--fill-color);\n",
              "    }\n",
              "    30% {\n",
              "      border-color: transparent;\n",
              "      border-left-color: var(--fill-color);\n",
              "      border-top-color: var(--fill-color);\n",
              "      border-right-color: var(--fill-color);\n",
              "    }\n",
              "    40% {\n",
              "      border-color: transparent;\n",
              "      border-right-color: var(--fill-color);\n",
              "      border-top-color: var(--fill-color);\n",
              "    }\n",
              "    60% {\n",
              "      border-color: transparent;\n",
              "      border-right-color: var(--fill-color);\n",
              "    }\n",
              "    80% {\n",
              "      border-color: transparent;\n",
              "      border-right-color: var(--fill-color);\n",
              "      border-bottom-color: var(--fill-color);\n",
              "    }\n",
              "    90% {\n",
              "      border-color: transparent;\n",
              "      border-bottom-color: var(--fill-color);\n",
              "    }\n",
              "  }\n",
              "</style>\n",
              "\n",
              "  <script>\n",
              "    async function quickchart(key) {\n",
              "      const quickchartButtonEl =\n",
              "        document.querySelector('#' + key + ' button');\n",
              "      quickchartButtonEl.disabled = true;  // To prevent multiple clicks.\n",
              "      quickchartButtonEl.classList.add('colab-df-spinner');\n",
              "      try {\n",
              "        const charts = await google.colab.kernel.invokeFunction(\n",
              "            'suggestCharts', [key], {});\n",
              "      } catch (error) {\n",
              "        console.error('Error during call to suggestCharts:', error);\n",
              "      }\n",
              "      quickchartButtonEl.classList.remove('colab-df-spinner');\n",
              "      quickchartButtonEl.classList.add('colab-df-quickchart-complete');\n",
              "    }\n",
              "    (() => {\n",
              "      let quickchartButtonEl =\n",
              "        document.querySelector('#df-44313947-d6ed-4163-9bd1-d10b6bcc84e8 button');\n",
              "      quickchartButtonEl.style.display =\n",
              "        google.colab.kernel.accessAllowed ? 'block' : 'none';\n",
              "    })();\n",
              "  </script>\n",
              "</div>\n",
              "\n",
              "  <div id=\"id_9b586020-1c90-4f71-b5da-13edaef2b62c\">\n",
              "    <style>\n",
              "      .colab-df-generate {\n",
              "        background-color: #E8F0FE;\n",
              "        border: none;\n",
              "        border-radius: 50%;\n",
              "        cursor: pointer;\n",
              "        display: none;\n",
              "        fill: #1967D2;\n",
              "        height: 32px;\n",
              "        padding: 0 0 0 0;\n",
              "        width: 32px;\n",
              "      }\n",
              "\n",
              "      .colab-df-generate:hover {\n",
              "        background-color: #E2EBFA;\n",
              "        box-shadow: 0px 1px 2px rgba(60, 64, 67, 0.3), 0px 1px 3px 1px rgba(60, 64, 67, 0.15);\n",
              "        fill: #174EA6;\n",
              "      }\n",
              "\n",
              "      [theme=dark] .colab-df-generate {\n",
              "        background-color: #3B4455;\n",
              "        fill: #D2E3FC;\n",
              "      }\n",
              "\n",
              "      [theme=dark] .colab-df-generate:hover {\n",
              "        background-color: #434B5C;\n",
              "        box-shadow: 0px 1px 3px 1px rgba(0, 0, 0, 0.15);\n",
              "        filter: drop-shadow(0px 1px 2px rgba(0, 0, 0, 0.3));\n",
              "        fill: #FFFFFF;\n",
              "      }\n",
              "    </style>\n",
              "    <button class=\"colab-df-generate\" onclick=\"generateWithVariable('dataset')\"\n",
              "            title=\"Generate code using this dataframe.\"\n",
              "            style=\"display:none;\">\n",
              "\n",
              "  <svg xmlns=\"http://www.w3.org/2000/svg\" height=\"24px\"viewBox=\"0 0 24 24\"\n",
              "       width=\"24px\">\n",
              "    <path d=\"M7,19H8.4L18.45,9,17,7.55,7,17.6ZM5,21V16.75L18.45,3.32a2,2,0,0,1,2.83,0l1.4,1.43a1.91,1.91,0,0,1,.58,1.4,1.91,1.91,0,0,1-.58,1.4L9.25,21ZM18.45,9,17,7.55Zm-12,3A5.31,5.31,0,0,0,4.9,8.1,5.31,5.31,0,0,0,1,6.5,5.31,5.31,0,0,0,4.9,4.9,5.31,5.31,0,0,0,6.5,1,5.31,5.31,0,0,0,8.1,4.9,5.31,5.31,0,0,0,12,6.5,5.46,5.46,0,0,0,6.5,12Z\"/>\n",
              "  </svg>\n",
              "    </button>\n",
              "    <script>\n",
              "      (() => {\n",
              "      const buttonEl =\n",
              "        document.querySelector('#id_9b586020-1c90-4f71-b5da-13edaef2b62c button.colab-df-generate');\n",
              "      buttonEl.style.display =\n",
              "        google.colab.kernel.accessAllowed ? 'block' : 'none';\n",
              "\n",
              "      buttonEl.onclick = () => {\n",
              "        google.colab.notebook.generateWithVariable('dataset');\n",
              "      }\n",
              "      })();\n",
              "    </script>\n",
              "  </div>\n",
              "\n",
              "    </div>\n",
              "  </div>\n"
            ],
            "application/vnd.google.colaboratory.intrinsic+json": {
              "type": "dataframe",
              "variable_name": "dataset",
              "summary": "{\n  \"name\": \"dataset\",\n  \"rows\": 392,\n  \"fields\": [\n    {\n      \"column\": \"MPG\",\n      \"properties\": {\n        \"dtype\": \"number\",\n        \"std\": 7.805007486571799,\n        \"min\": 9.0,\n        \"max\": 46.6,\n        \"num_unique_values\": 127,\n        \"samples\": [\n          17.5,\n          35.1,\n          28.8\n        ],\n        \"semantic_type\": \"\",\n        \"description\": \"\"\n      }\n    },\n    {\n      \"column\": \"Cylinders\",\n      \"properties\": {\n        \"dtype\": \"number\",\n        \"std\": 1,\n        \"min\": 3,\n        \"max\": 8,\n        \"num_unique_values\": 5,\n        \"samples\": [\n          4,\n          5,\n          6\n        ],\n        \"semantic_type\": \"\",\n        \"description\": \"\"\n      }\n    },\n    {\n      \"column\": \"Displacement\",\n      \"properties\": {\n        \"dtype\": \"number\",\n        \"std\": 104.64400390890465,\n        \"min\": 68.0,\n        \"max\": 455.0,\n        \"num_unique_values\": 81,\n        \"samples\": [\n          116.0,\n          307.0,\n          360.0\n        ],\n        \"semantic_type\": \"\",\n        \"description\": \"\"\n      }\n    },\n    {\n      \"column\": \"Horsepower\",\n      \"properties\": {\n        \"dtype\": \"number\",\n        \"std\": 38.49115993282855,\n        \"min\": 46.0,\n        \"max\": 230.0,\n        \"num_unique_values\": 93,\n        \"samples\": [\n          92.0,\n          100.0,\n          52.0\n        ],\n        \"semantic_type\": \"\",\n        \"description\": \"\"\n      }\n    },\n    {\n      \"column\": \"Weight\",\n      \"properties\": {\n        \"dtype\": \"number\",\n        \"std\": 849.4025600429494,\n        \"min\": 1613.0,\n        \"max\": 5140.0,\n        \"num_unique_values\": 346,\n        \"samples\": [\n          2472.0,\n          3221.0,\n          2700.0\n        ],\n        \"semantic_type\": \"\",\n        \"description\": \"\"\n      }\n    },\n    {\n      \"column\": \"Acceleration\",\n      \"properties\": {\n        \"dtype\": \"number\",\n        \"std\": 2.7588641191880816,\n        \"min\": 8.0,\n        \"max\": 24.8,\n        \"num_unique_values\": 95,\n        \"samples\": [\n          14.7,\n          18.0,\n          14.3\n        ],\n        \"semantic_type\": \"\",\n        \"description\": \"\"\n      }\n    },\n    {\n      \"column\": \"Model Year\",\n      \"properties\": {\n        \"dtype\": \"number\",\n        \"std\": 3,\n        \"min\": 70,\n        \"max\": 82,\n        \"num_unique_values\": 13,\n        \"samples\": [\n          81,\n          79,\n          70\n        ],\n        \"semantic_type\": \"\",\n        \"description\": \"\"\n      }\n    },\n    {\n      \"column\": \"Europe\",\n      \"properties\": {\n        \"dtype\": \"number\",\n        \"std\": 0,\n        \"min\": 0,\n        \"max\": 1,\n        \"num_unique_values\": 2,\n        \"samples\": [\n          1,\n          0\n        ],\n        \"semantic_type\": \"\",\n        \"description\": \"\"\n      }\n    },\n    {\n      \"column\": \"Japan\",\n      \"properties\": {\n        \"dtype\": \"number\",\n        \"std\": 0,\n        \"min\": 0,\n        \"max\": 1,\n        \"num_unique_values\": 2,\n        \"samples\": [\n          1,\n          0\n        ],\n        \"semantic_type\": \"\",\n        \"description\": \"\"\n      }\n    },\n    {\n      \"column\": \"USA\",\n      \"properties\": {\n        \"dtype\": \"number\",\n        \"std\": 0,\n        \"min\": 0,\n        \"max\": 1,\n        \"num_unique_values\": 2,\n        \"samples\": [\n          0,\n          1\n        ],\n        \"semantic_type\": \"\",\n        \"description\": \"\"\n      }\n    }\n  ]\n}"
            }
          },
          "metadata": {},
          "execution_count": 3
        }
      ]
    },
    {
      "cell_type": "markdown",
      "source": [
        "## **3. Preprocessing data**"
      ],
      "metadata": {
        "id": "9OkcRdGqePpE"
      }
    },
    {
      "cell_type": "markdown",
      "source": [
        "### **3.1. X, y split**"
      ],
      "metadata": {
        "id": "ZzQLv11PeVUC"
      }
    },
    {
      "cell_type": "code",
      "source": [
        "X = dataset.drop(['MPG'], axis=1).values\n",
        "y = dataset['MPG'].values"
      ],
      "metadata": {
        "id": "sqS27WKaeSEL"
      },
      "execution_count": 11,
      "outputs": []
    },
    {
      "cell_type": "code",
      "source": [
        "X"
      ],
      "metadata": {
        "colab": {
          "base_uri": "https://localhost:8080/"
        },
        "id": "0w179cRLelya",
        "outputId": "82d3f475-4152-4525-8363-ae25c85940da"
      },
      "execution_count": 10,
      "outputs": [
        {
          "output_type": "execute_result",
          "data": {
            "text/plain": [
              "array([[  8., 307., 130., ...,   0.,   0.,   1.],\n",
              "       [  8., 350., 165., ...,   0.,   0.,   1.],\n",
              "       [  8., 318., 150., ...,   0.,   0.,   1.],\n",
              "       ...,\n",
              "       [  4., 135.,  84., ...,   0.,   0.,   1.],\n",
              "       [  4., 120.,  79., ...,   0.,   0.,   1.],\n",
              "       [  4., 119.,  82., ...,   0.,   0.,   1.]])"
            ]
          },
          "metadata": {},
          "execution_count": 10
        }
      ]
    },
    {
      "cell_type": "code",
      "source": [
        "y"
      ],
      "metadata": {
        "colab": {
          "base_uri": "https://localhost:8080/"
        },
        "id": "szWO2slvemJ0",
        "outputId": "c4e7cb1f-8646-4ac4-d884-4a5aff03a813"
      },
      "execution_count": 12,
      "outputs": [
        {
          "output_type": "execute_result",
          "data": {
            "text/plain": [
              "array([18. , 15. , 18. , 16. , 17. , 15. , 14. , 14. , 14. , 15. , 15. ,\n",
              "       14. , 15. , 14. , 24. , 22. , 18. , 21. , 27. , 26. , 25. , 24. ,\n",
              "       25. , 26. , 21. , 10. , 10. , 11. ,  9. , 27. , 28. , 25. , 19. ,\n",
              "       16. , 17. , 19. , 18. , 14. , 14. , 14. , 14. , 12. , 13. , 13. ,\n",
              "       18. , 22. , 19. , 18. , 23. , 28. , 30. , 30. , 31. , 35. , 27. ,\n",
              "       26. , 24. , 25. , 23. , 20. , 21. , 13. , 14. , 15. , 14. , 17. ,\n",
              "       11. , 13. , 12. , 13. , 19. , 15. , 13. , 13. , 14. , 18. , 22. ,\n",
              "       21. , 26. , 22. , 28. , 23. , 28. , 27. , 13. , 14. , 13. , 14. ,\n",
              "       15. , 12. , 13. , 13. , 14. , 13. , 12. , 13. , 18. , 16. , 18. ,\n",
              "       18. , 23. , 26. , 11. , 12. , 13. , 12. , 18. , 20. , 21. , 22. ,\n",
              "       18. , 19. , 21. , 26. , 15. , 16. , 29. , 24. , 20. , 19. , 15. ,\n",
              "       24. , 20. , 11. , 20. , 19. , 15. , 31. , 26. , 32. , 25. , 16. ,\n",
              "       16. , 18. , 16. , 13. , 14. , 14. , 14. , 29. , 26. , 26. , 31. ,\n",
              "       32. , 28. , 24. , 26. , 24. , 26. , 31. , 19. , 18. , 15. , 15. ,\n",
              "       16. , 15. , 16. , 14. , 17. , 16. , 15. , 18. , 21. , 20. , 13. ,\n",
              "       29. , 23. , 20. , 23. , 24. , 25. , 24. , 18. , 29. , 19. , 23. ,\n",
              "       23. , 22. , 25. , 33. , 28. , 25. , 25. , 26. , 27. , 17.5, 16. ,\n",
              "       15.5, 14.5, 22. , 22. , 24. , 22.5, 29. , 24.5, 29. , 33. , 20. ,\n",
              "       18. , 18.5, 17.5, 29.5, 32. , 28. , 26.5, 20. , 13. , 19. , 19. ,\n",
              "       16.5, 16.5, 13. , 13. , 13. , 31.5, 30. , 36. , 25.5, 33.5, 17.5,\n",
              "       17. , 15.5, 15. , 17.5, 20.5, 19. , 18.5, 16. , 15.5, 15.5, 16. ,\n",
              "       29. , 24.5, 26. , 25.5, 30.5, 33.5, 30. , 30.5, 22. , 21.5, 21.5,\n",
              "       43.1, 36.1, 32.8, 39.4, 36.1, 19.9, 19.4, 20.2, 19.2, 20.5, 20.2,\n",
              "       25.1, 20.5, 19.4, 20.6, 20.8, 18.6, 18.1, 19.2, 17.7, 18.1, 17.5,\n",
              "       30. , 27.5, 27.2, 30.9, 21.1, 23.2, 23.8, 23.9, 20.3, 17. , 21.6,\n",
              "       16.2, 31.5, 29.5, 21.5, 19.8, 22.3, 20.2, 20.6, 17. , 17.6, 16.5,\n",
              "       18.2, 16.9, 15.5, 19.2, 18.5, 31.9, 34.1, 35.7, 27.4, 25.4, 23. ,\n",
              "       27.2, 23.9, 34.2, 34.5, 31.8, 37.3, 28.4, 28.8, 26.8, 33.5, 41.5,\n",
              "       38.1, 32.1, 37.2, 28. , 26.4, 24.3, 19.1, 34.3, 29.8, 31.3, 37. ,\n",
              "       32.2, 46.6, 27.9, 40.8, 44.3, 43.4, 36.4, 30. , 44.6, 33.8, 29.8,\n",
              "       32.7, 23.7, 35. , 32.4, 27.2, 26.6, 25.8, 23.5, 30. , 39.1, 39. ,\n",
              "       35.1, 32.3, 37. , 37.7, 34.1, 34.7, 34.4, 29.9, 33. , 33.7, 32.4,\n",
              "       32.9, 31.6, 28.1, 30.7, 25.4, 24.2, 22.4, 26.6, 20.2, 17.6, 28. ,\n",
              "       27. , 34. , 31. , 29. , 27. , 24. , 36. , 37. , 31. , 38. , 36. ,\n",
              "       36. , 36. , 34. , 38. , 32. , 38. , 25. , 38. , 26. , 22. , 32. ,\n",
              "       36. , 27. , 27. , 44. , 32. , 28. , 31. ])"
            ]
          },
          "metadata": {},
          "execution_count": 12
        }
      ]
    },
    {
      "cell_type": "markdown",
      "source": [
        "### **3.2. Train/val/test split**"
      ],
      "metadata": {
        "id": "xwcUvANle-4I"
      }
    },
    {
      "cell_type": "code",
      "source": [
        "val_size = 0.2\n",
        "test_size = 0.125\n",
        "is_shuffle = True\n",
        "X_train, X_val, y_train, y_val = train_test_split(\n",
        "    X, y,\n",
        "    test_size = val_size,\n",
        "    random_state = random_state,\n",
        "    shuffle=is_shuffle)\n",
        "X_train, X_test, y_train, y_test = train_test_split(\n",
        "    X_train, y_train,\n",
        "    test_size = test_size,\n",
        "    random_state = random_state,\n",
        "    shuffle=is_shuffle)"
      ],
      "metadata": {
        "id": "ik5XDiSDe8oW"
      },
      "execution_count": 14,
      "outputs": []
    },
    {
      "cell_type": "code",
      "source": [
        "print(f'Number of training samples: {X_train.shape[0]}')\n",
        "print(f'Number of val samples: {X_val.shape[0]}')\n",
        "print(f'Number of test samples: {X_test.shape[0]}')"
      ],
      "metadata": {
        "colab": {
          "base_uri": "https://localhost:8080/"
        },
        "id": "5eAx3fhjixfJ",
        "outputId": "48cd65ab-9da7-406a-c90a-d1208852c679"
      },
      "execution_count": 15,
      "outputs": [
        {
          "output_type": "stream",
          "name": "stdout",
          "text": [
            "Number of training samples: 273\n",
            "Number of val samples: 79\n",
            "Number of test samples: 40\n"
          ]
        }
      ]
    },
    {
      "cell_type": "markdown",
      "source": [
        "### **3.3. Data Normalization**"
      ],
      "metadata": {
        "id": "BfbPDe8ijMAR"
      }
    },
    {
      "cell_type": "code",
      "source": [
        "normalizer = StandardScaler()\n",
        "X_train = normalizer.fit_transform(X_train)\n",
        "X_val = normalizer.transform(X_val)\n",
        "X_test = normalizer.transform(X_test)\n",
        "\n",
        "X_train = torch.tensor(X_train, dtype=torch.float32)\n",
        "X_val = torch.tensor(X_val, dtype=torch.float32)\n",
        "X_test = torch.tensor(X_test, dtype=torch.float32)\n",
        "y_train = torch.tensor(y_train, dtype=torch.float32)\n",
        "y_val = torch.tensor(y_val, dtype=torch.float32)\n",
        "y_test = torch.tensor(y_test, dtype=torch.float32)"
      ],
      "metadata": {
        "id": "2O0X7G3VjMbV"
      },
      "execution_count": 16,
      "outputs": []
    },
    {
      "cell_type": "code",
      "source": [
        "X_train"
      ],
      "metadata": {
        "colab": {
          "base_uri": "https://localhost:8080/"
        },
        "id": "DFP_h0tekW7h",
        "outputId": "8371a851-a93c-4079-fd4c-495616e853de"
      },
      "execution_count": 17,
      "outputs": [
        {
          "output_type": "execute_result",
          "data": {
            "text/plain": [
              "tensor([[-0.8414, -1.0379, -1.0381,  ..., -0.4443,  1.9045, -1.2748],\n",
              "        [ 0.3676,  0.3682,  0.2230,  ..., -0.4443, -0.5251,  0.7845],\n",
              "        [-0.8414, -0.9165, -0.8980,  ..., -0.4443, -0.5251,  0.7845],\n",
              "        ...,\n",
              "        [ 1.5766,  1.3091,  1.3439,  ..., -0.4443, -0.5251,  0.7845],\n",
              "        [ 0.3676,  0.4391, -0.3375,  ..., -0.4443, -0.5251,  0.7845],\n",
              "        [ 0.3676,  0.6211, -0.0573,  ..., -0.4443, -0.5251,  0.7845]])"
            ]
          },
          "metadata": {},
          "execution_count": 17
        }
      ]
    },
    {
      "cell_type": "code",
      "source": [
        "X_train.shape"
      ],
      "metadata": {
        "colab": {
          "base_uri": "https://localhost:8080/"
        },
        "id": "wxnuQdE6kpHy",
        "outputId": "e570c856-9bbf-4859-8500-2b4341ec05d0"
      },
      "execution_count": 19,
      "outputs": [
        {
          "output_type": "execute_result",
          "data": {
            "text/plain": [
              "torch.Size([273, 9])"
            ]
          },
          "metadata": {},
          "execution_count": 19
        }
      ]
    },
    {
      "cell_type": "code",
      "source": [
        "y_train"
      ],
      "metadata": {
        "colab": {
          "base_uri": "https://localhost:8080/"
        },
        "id": "dQPpFCvvk2ev",
        "outputId": "1e0212de-aabb-4f09-9d83-df5dfce1c492"
      },
      "execution_count": 20,
      "outputs": [
        {
          "output_type": "execute_result",
          "data": {
            "text/plain": [
              "tensor([46.6000, 18.6000, 32.1000, 33.8000, 20.0000, 30.0000, 19.0000, 17.5000,\n",
              "        38.0000, 29.9000, 22.0000, 35.7000, 37.0000, 25.0000, 17.0000, 25.5000,\n",
              "        37.7000, 20.5000, 29.8000, 28.0000, 14.0000, 22.0000, 25.0000, 24.0000,\n",
              "        32.2000, 32.3000, 29.0000, 15.5000, 15.5000, 32.9000, 23.5000, 19.0000,\n",
              "        13.0000, 15.0000, 36.0000, 22.0000, 31.3000, 14.0000, 21.0000, 20.0000,\n",
              "        17.0000, 15.5000, 27.9000, 35.0000, 34.5000, 27.0000, 12.0000, 41.5000,\n",
              "        26.0000, 17.5000, 32.7000, 15.0000, 23.9000, 36.0000, 17.7000, 19.0000,\n",
              "        20.5000, 19.4000, 30.0000, 29.8000, 26.6000, 14.0000, 23.9000, 25.0000,\n",
              "        32.4000, 18.0000, 23.0000, 11.0000, 19.0000, 20.2000, 22.0000, 15.0000,\n",
              "        22.0000, 13.0000, 20.0000, 21.0000, 26.0000, 14.0000, 26.5000, 23.0000,\n",
              "        28.0000, 23.0000, 43.1000, 33.5000, 33.0000, 18.2000, 18.0000, 14.0000,\n",
              "        18.0000, 20.8000, 19.0000, 13.0000, 43.4000, 14.0000, 18.0000, 21.5000,\n",
              "        28.0000, 16.2000, 12.0000, 22.0000, 19.4000, 24.0000, 16.0000, 14.0000,\n",
              "        23.0000, 29.0000, 11.0000, 17.0000, 24.0000, 29.0000, 30.0000, 16.9000,\n",
              "        27.0000, 16.0000, 15.0000, 24.5000, 14.0000, 32.8000, 28.4000, 33.7000,\n",
              "        31.8000, 34.7000, 26.0000, 27.2000, 31.0000, 34.1000, 17.6000, 16.5000,\n",
              "        22.0000, 15.0000, 44.6000, 33.0000, 37.2000, 25.0000, 26.0000, 25.0000,\n",
              "        19.0000, 32.0000, 18.0000, 26.0000, 25.1000, 38.0000, 28.0000, 26.0000,\n",
              "        11.0000, 31.0000, 18.1000, 23.0000, 15.0000, 20.0000, 20.0000, 20.5000,\n",
              "        20.3000, 22.3000, 17.0000, 18.0000, 32.0000, 31.0000, 34.0000, 25.8000,\n",
              "        30.5000, 24.0000, 30.0000, 14.0000, 24.0000, 27.0000, 25.5000, 15.0000,\n",
              "        30.0000, 23.0000, 34.3000, 44.3000, 34.1000, 19.1000, 32.0000, 18.0000,\n",
              "        20.6000, 29.0000, 14.0000, 31.5000, 19.0000, 31.0000, 29.5000, 16.0000,\n",
              "        28.0000, 19.2000, 18.1000, 19.0000, 15.5000, 24.0000, 21.6000, 32.0000,\n",
              "        15.0000, 13.0000, 26.8000, 19.0000, 16.0000, 34.0000, 39.0000, 36.0000,\n",
              "        24.0000, 23.0000, 13.0000, 33.5000, 20.2000, 38.1000, 36.0000, 15.0000,\n",
              "        23.0000, 18.0000, 21.0000, 21.1000, 27.0000, 13.0000, 21.0000, 14.0000,\n",
              "        25.0000, 30.0000, 23.0000, 20.0000, 14.0000, 19.2000, 21.0000, 13.0000,\n",
              "        18.0000, 13.0000, 25.0000, 24.0000, 21.0000, 24.0000, 20.0000, 14.0000,\n",
              "        19.0000, 17.6000, 36.1000, 20.0000, 26.0000, 18.0000,  9.0000, 26.6000,\n",
              "        27.2000, 27.0000, 37.0000, 27.0000, 36.4000, 24.0000, 14.0000, 16.0000,\n",
              "        28.0000, 18.5000, 21.5000, 37.0000, 13.0000, 27.5000, 29.0000, 15.0000,\n",
              "        21.5000, 25.0000, 14.0000, 13.0000, 12.0000, 19.2000, 23.2000, 35.0000,\n",
              "        13.0000, 27.0000, 12.0000, 17.0000, 14.0000, 25.4000, 15.0000, 20.2000,\n",
              "        16.0000])"
            ]
          },
          "metadata": {},
          "execution_count": 20
        }
      ]
    },
    {
      "cell_type": "code",
      "source": [
        "len(X_train)"
      ],
      "metadata": {
        "colab": {
          "base_uri": "https://localhost:8080/"
        },
        "id": "0sWoqyIBloXU",
        "outputId": "0b78b71f-b1d9-4c6b-d889-566b400d7f99"
      },
      "execution_count": 23,
      "outputs": [
        {
          "output_type": "execute_result",
          "data": {
            "text/plain": [
              "273"
            ]
          },
          "metadata": {},
          "execution_count": 23
        }
      ]
    },
    {
      "cell_type": "markdown",
      "source": [
        "## **4. Create PyTorch DataLoader**"
      ],
      "metadata": {
        "id": "Mg1TxKkakSbB"
      }
    },
    {
      "cell_type": "code",
      "source": [
        "class CustomDataset(Dataset):\n",
        "    def __init__(self, X, y):\n",
        "        self.X = X\n",
        "        self.y = y\n",
        "\n",
        "    def __len__(self):\n",
        "        return len(self.y)\n",
        "\n",
        "    def __getitem__(self, idx):\n",
        "        return self.X[idx], self.y[idx]"
      ],
      "metadata": {
        "id": "ZG7oxBdBkS_K"
      },
      "execution_count": 45,
      "outputs": []
    },
    {
      "cell_type": "code",
      "source": [
        "batch_size = 32\n",
        "train_dataset = CustomDataset(X_train, y_train)\n",
        "val_dataset = CustomDataset(X_val, y_val)\n",
        "test_dataset = CustomDataset(X_test, y_test)\n",
        "train_loader = DataLoader(train_dataset, batch_size=batch_size, shuffle=True)\n",
        "val_loader = DataLoader(val_dataset, batch_size=batch_size, shuffle=False)\n",
        "test_loader = DataLoader(test_dataset, batch_size=batch_size, shuffle=False)"
      ],
      "metadata": {
        "id": "GhA89oCVl-d7"
      },
      "execution_count": 46,
      "outputs": []
    },
    {
      "cell_type": "markdown",
      "source": [
        "## **5. Build MLP network**"
      ],
      "metadata": {
        "id": "eeHfsZ46og8S"
      }
    },
    {
      "cell_type": "code",
      "source": [
        "# import torch\n",
        "# import torch.nn as nn\n",
        "# import torch.nn.functional as F\n",
        "\n",
        "# class MLP(nn.Module):\n",
        "#     def __init__(self, input_dims, hidden_dims, output_dims):\n",
        "#         super(MLP, self).__init__()\n",
        "#         self.linear1 = nn.Linear(input_dims, hidden_dims)\n",
        "#         self.linear2 = nn.Linear(hidden_dims, hidden_dims)\n",
        "#         self.out = nn.Linear(hidden_dims, output_dims)\n",
        "\n",
        "#     def forward(self, x):\n",
        "#         print(f\"Input size: {x.size()}\")  # In kích thước đầu vào\n",
        "#         x = self.linear1(x)\n",
        "#         print(f\"After linear1: {x.size()}\")\n",
        "#         x = F.relu(x)\n",
        "#         print(f\"After ReLU1: {x.size()}\")\n",
        "#         x = self.linear2(x)\n",
        "#         print(f\"After linear2: {x.size()}\")\n",
        "#         x = F.relu(x)\n",
        "#         print(f\"After ReLU2: {x.size()}\")\n",
        "#         out = self.out(x)\n",
        "#         print(f\"After output layer: {out.size()}\")\n",
        "#         return out.squeeze(1)\n",
        "\n",
        "# # Ví dụ với batch size = 4, input_dims = 10\n",
        "# model = MLP(input_dims=10, hidden_dims=16, output_dims=1)\n",
        "# input_tensor = torch.randn(4, 10)  # Batch size = 4, input_dims = 10\n",
        "# output = model(input_tensor)\n",
        "# print(f\"Final output size: {output.size()}\")\n"
      ],
      "metadata": {
        "id": "R_bX3OaLqN8p"
      },
      "execution_count": null,
      "outputs": []
    },
    {
      "cell_type": "code",
      "source": [
        "class MLP(nn.Module):\n",
        "    def __init__(self, input_dims, hidden_dims, output_dims):\n",
        "        super(MLP, self).__init__()\n",
        "        self.linear1 = nn.Linear(input_dims, hidden_dims)\n",
        "        self.linear2 = nn.Linear(hidden_dims, hidden_dims)\n",
        "        self.out = nn.Linear(hidden_dims, output_dims)\n",
        "    def forward(self, x):\n",
        "        x = self.linear1(x)\n",
        "        x = F.relu(x)\n",
        "        x = self.linear2(x)\n",
        "        x = F.relu(x)\n",
        "        out = self.out(x)\n",
        "        return out.squeeze(1)"
      ],
      "metadata": {
        "id": "WUOWpSHmohZp"
      },
      "execution_count": 47,
      "outputs": []
    },
    {
      "cell_type": "code",
      "source": [
        "X_train.shape[1]"
      ],
      "metadata": {
        "colab": {
          "base_uri": "https://localhost:8080/"
        },
        "id": "BdNi6xZnsWJ-",
        "outputId": "129fadb1-249e-41ec-8905-0e30631626ad"
      },
      "execution_count": 48,
      "outputs": [
        {
          "output_type": "execute_result",
          "data": {
            "text/plain": [
              "9"
            ]
          },
          "metadata": {},
          "execution_count": 48
        }
      ]
    },
    {
      "cell_type": "code",
      "source": [
        "input_dims = X_train.shape[1]\n",
        "output_dims = 1\n",
        "hidden_dims = 16\n",
        "lr = 0.01\n",
        "model =  MLP(input_dims, hidden_dims, output_dims).to(device)\n",
        "criterion = nn.MSELoss()\n",
        "optimizer = torch.optim.SGD(model.parameters(), lr=lr)"
      ],
      "metadata": {
        "id": "jrDnEExXraxZ"
      },
      "execution_count": 49,
      "outputs": []
    },
    {
      "cell_type": "markdown",
      "source": [
        "## **6. Training**"
      ],
      "metadata": {
        "id": "WZnJo7qxs6z6"
      }
    },
    {
      "cell_type": "code",
      "source": [
        "def r_squared(y_true, y_pred):\n",
        "    y_true = torch.Tensor(y_true).to(device)\n",
        "    y_pred = torch.Tensor(y_pred).to(device)\n",
        "    ss_res = torch.sum((y_true - y_pred) ** 2)\n",
        "    ss_tot = torch.sum((y_true - torch.mean(y_true)) ** 2)\n",
        "    return 1 - (ss_res / ss_tot)"
      ],
      "metadata": {
        "id": "Yum2IFGws7V7"
      },
      "execution_count": 50,
      "outputs": []
    },
    {
      "cell_type": "code",
      "source": [
        "epochs = 100\n",
        "train_losses = []\n",
        "val_losses = []\n",
        "train_r2 = []\n",
        "val_r2 = []\n",
        "for epoch in range(epochs):\n",
        "    train_loss = 0.0\n",
        "    train_target = []\n",
        "    val_target = []\n",
        "    train_predict = []\n",
        "    val_predict = []\n",
        "    model.train()\n",
        "    for X_samples, y_samples in train_loader:\n",
        "        X_samples = X_samples.to(device)\n",
        "        y_samples = y_samples.to(device)\n",
        "        optimizer.zero_grad()\n",
        "        outputs = model(X_samples)\n",
        "        train_predict += outputs.tolist()\n",
        "        train_target += y_samples.tolist()\n",
        "        loss = criterion(outputs, y_samples)\n",
        "        loss.backward()\n",
        "        optimizer.step()\n",
        "        train_loss += loss.item()\n",
        "    train_loss /= len(train_loader)\n",
        "    train_losses.append(train_loss)\n",
        "    train_r2.append(r_squared(train_target, train_predict))\n",
        "    model.eval()\n",
        "    val_loss = 0.0\n",
        "    with torch.no_grad():\n",
        "        for X_samples, y_samples in val_loader:\n",
        "            X_samples = X_samples.to(device)\n",
        "            y_samples = y_samples.to(device)\n",
        "            outputs = model(X_samples)\n",
        "            val_predict += outputs.tolist()\n",
        "            val_target += y_samples.tolist()\n",
        "            loss = criterion(outputs, y_samples)\n",
        "            val_loss += loss.item()\n",
        "    val_loss /= len(val_loader)\n",
        "    val_losses.append(val_loss)\n",
        "    val_r2.append(r_squared(val_target, val_predict))\n",
        "    print(f'\\nEPOCH {epoch + 1}:\\tTraining loss: {train_loss:.3f}\\tValidation loss: {val_loss:.3f}')"
      ],
      "metadata": {
        "colab": {
          "base_uri": "https://localhost:8080/"
        },
        "id": "C9sWQcZNt07Y",
        "outputId": "259012cb-b140-447f-c1a6-cf843bcbc71b"
      },
      "execution_count": 51,
      "outputs": [
        {
          "output_type": "stream",
          "name": "stdout",
          "text": [
            "\n",
            "EPOCH 1:\tTraining loss: 477.894\tValidation loss: 492.356\n",
            "\n",
            "EPOCH 2:\tTraining loss: 421.281\tValidation loss: 361.603\n",
            "\n",
            "EPOCH 3:\tTraining loss: 303.247\tValidation loss: 248.871\n",
            "\n",
            "EPOCH 4:\tTraining loss: 136.107\tValidation loss: 168.151\n",
            "\n",
            "EPOCH 5:\tTraining loss: 38.177\tValidation loss: 24.208\n",
            "\n",
            "EPOCH 6:\tTraining loss: 33.608\tValidation loss: 24.062\n",
            "\n",
            "EPOCH 7:\tTraining loss: 23.179\tValidation loss: 20.652\n",
            "\n",
            "EPOCH 8:\tTraining loss: 22.507\tValidation loss: 18.843\n",
            "\n",
            "EPOCH 9:\tTraining loss: 20.117\tValidation loss: 18.344\n",
            "\n",
            "EPOCH 10:\tTraining loss: 18.586\tValidation loss: 28.573\n",
            "\n",
            "EPOCH 11:\tTraining loss: 21.820\tValidation loss: 26.528\n",
            "\n",
            "EPOCH 12:\tTraining loss: 17.813\tValidation loss: 16.243\n",
            "\n",
            "EPOCH 13:\tTraining loss: 19.519\tValidation loss: 14.670\n",
            "\n",
            "EPOCH 14:\tTraining loss: 16.712\tValidation loss: 13.697\n",
            "\n",
            "EPOCH 15:\tTraining loss: 14.913\tValidation loss: 14.977\n",
            "\n",
            "EPOCH 16:\tTraining loss: 13.964\tValidation loss: 13.132\n",
            "\n",
            "EPOCH 17:\tTraining loss: 13.738\tValidation loss: 16.035\n",
            "\n",
            "EPOCH 18:\tTraining loss: 13.199\tValidation loss: 13.105\n",
            "\n",
            "EPOCH 19:\tTraining loss: 13.992\tValidation loss: 23.624\n",
            "\n",
            "EPOCH 20:\tTraining loss: 12.422\tValidation loss: 14.624\n",
            "\n",
            "EPOCH 21:\tTraining loss: 13.157\tValidation loss: 12.949\n",
            "\n",
            "EPOCH 22:\tTraining loss: 13.572\tValidation loss: 14.099\n",
            "\n",
            "EPOCH 23:\tTraining loss: 12.402\tValidation loss: 13.150\n",
            "\n",
            "EPOCH 24:\tTraining loss: 12.489\tValidation loss: 11.812\n",
            "\n",
            "EPOCH 25:\tTraining loss: 12.936\tValidation loss: 13.337\n",
            "\n",
            "EPOCH 26:\tTraining loss: 11.571\tValidation loss: 12.742\n",
            "\n",
            "EPOCH 27:\tTraining loss: 12.595\tValidation loss: 16.152\n",
            "\n",
            "EPOCH 28:\tTraining loss: 11.194\tValidation loss: 12.949\n",
            "\n",
            "EPOCH 29:\tTraining loss: 11.325\tValidation loss: 11.253\n",
            "\n",
            "EPOCH 30:\tTraining loss: 10.915\tValidation loss: 11.886\n",
            "\n",
            "EPOCH 31:\tTraining loss: 10.995\tValidation loss: 12.427\n",
            "\n",
            "EPOCH 32:\tTraining loss: 10.455\tValidation loss: 11.608\n",
            "\n",
            "EPOCH 33:\tTraining loss: 11.224\tValidation loss: 11.259\n",
            "\n",
            "EPOCH 34:\tTraining loss: 12.208\tValidation loss: 12.046\n",
            "\n",
            "EPOCH 35:\tTraining loss: 11.256\tValidation loss: 16.979\n",
            "\n",
            "EPOCH 36:\tTraining loss: 12.102\tValidation loss: 11.201\n",
            "\n",
            "EPOCH 37:\tTraining loss: 10.260\tValidation loss: 11.296\n",
            "\n",
            "EPOCH 38:\tTraining loss: 10.709\tValidation loss: 24.076\n",
            "\n",
            "EPOCH 39:\tTraining loss: 11.820\tValidation loss: 13.351\n",
            "\n",
            "EPOCH 40:\tTraining loss: 10.601\tValidation loss: 11.409\n",
            "\n",
            "EPOCH 41:\tTraining loss: 10.846\tValidation loss: 11.396\n",
            "\n",
            "EPOCH 42:\tTraining loss: 11.553\tValidation loss: 12.187\n",
            "\n",
            "EPOCH 43:\tTraining loss: 10.463\tValidation loss: 13.616\n",
            "\n",
            "EPOCH 44:\tTraining loss: 10.539\tValidation loss: 11.643\n",
            "\n",
            "EPOCH 45:\tTraining loss: 10.840\tValidation loss: 11.552\n",
            "\n",
            "EPOCH 46:\tTraining loss: 10.022\tValidation loss: 13.251\n",
            "\n",
            "EPOCH 47:\tTraining loss: 10.734\tValidation loss: 11.366\n",
            "\n",
            "EPOCH 48:\tTraining loss: 11.215\tValidation loss: 12.322\n",
            "\n",
            "EPOCH 49:\tTraining loss: 11.207\tValidation loss: 11.098\n",
            "\n",
            "EPOCH 50:\tTraining loss: 11.511\tValidation loss: 12.008\n",
            "\n",
            "EPOCH 51:\tTraining loss: 9.857\tValidation loss: 10.843\n",
            "\n",
            "EPOCH 52:\tTraining loss: 10.481\tValidation loss: 10.447\n",
            "\n",
            "EPOCH 53:\tTraining loss: 10.324\tValidation loss: 11.649\n",
            "\n",
            "EPOCH 54:\tTraining loss: 10.193\tValidation loss: 11.427\n",
            "\n",
            "EPOCH 55:\tTraining loss: 10.736\tValidation loss: 10.695\n",
            "\n",
            "EPOCH 56:\tTraining loss: 10.547\tValidation loss: 10.955\n",
            "\n",
            "EPOCH 57:\tTraining loss: 10.107\tValidation loss: 17.697\n",
            "\n",
            "EPOCH 58:\tTraining loss: 11.829\tValidation loss: 10.432\n",
            "\n",
            "EPOCH 59:\tTraining loss: 9.926\tValidation loss: 11.559\n",
            "\n",
            "EPOCH 60:\tTraining loss: 10.896\tValidation loss: 11.610\n",
            "\n",
            "EPOCH 61:\tTraining loss: 10.042\tValidation loss: 11.168\n",
            "\n",
            "EPOCH 62:\tTraining loss: 10.110\tValidation loss: 10.520\n",
            "\n",
            "EPOCH 63:\tTraining loss: 9.662\tValidation loss: 13.156\n",
            "\n",
            "EPOCH 64:\tTraining loss: 9.773\tValidation loss: 10.902\n",
            "\n",
            "EPOCH 65:\tTraining loss: 9.230\tValidation loss: 11.885\n",
            "\n",
            "EPOCH 66:\tTraining loss: 8.816\tValidation loss: 11.226\n",
            "\n",
            "EPOCH 67:\tTraining loss: 9.523\tValidation loss: 10.233\n",
            "\n",
            "EPOCH 68:\tTraining loss: 9.159\tValidation loss: 10.485\n",
            "\n",
            "EPOCH 69:\tTraining loss: 9.258\tValidation loss: 11.237\n",
            "\n",
            "EPOCH 70:\tTraining loss: 8.897\tValidation loss: 9.017\n",
            "\n",
            "EPOCH 71:\tTraining loss: 9.075\tValidation loss: 9.180\n",
            "\n",
            "EPOCH 72:\tTraining loss: 8.543\tValidation loss: 10.152\n",
            "\n",
            "EPOCH 73:\tTraining loss: 9.159\tValidation loss: 9.360\n",
            "\n",
            "EPOCH 74:\tTraining loss: 9.129\tValidation loss: 9.195\n",
            "\n",
            "EPOCH 75:\tTraining loss: 8.966\tValidation loss: 9.478\n",
            "\n",
            "EPOCH 76:\tTraining loss: 8.247\tValidation loss: 11.717\n",
            "\n",
            "EPOCH 77:\tTraining loss: 8.572\tValidation loss: 9.712\n",
            "\n",
            "EPOCH 78:\tTraining loss: 8.501\tValidation loss: 8.173\n",
            "\n",
            "EPOCH 79:\tTraining loss: 9.405\tValidation loss: 9.445\n",
            "\n",
            "EPOCH 80:\tTraining loss: 8.029\tValidation loss: 10.116\n",
            "\n",
            "EPOCH 81:\tTraining loss: 8.631\tValidation loss: 8.243\n",
            "\n",
            "EPOCH 82:\tTraining loss: 7.627\tValidation loss: 9.662\n",
            "\n",
            "EPOCH 83:\tTraining loss: 7.805\tValidation loss: 9.184\n",
            "\n",
            "EPOCH 84:\tTraining loss: 8.197\tValidation loss: 7.941\n",
            "\n",
            "EPOCH 85:\tTraining loss: 7.333\tValidation loss: 14.408\n",
            "\n",
            "EPOCH 86:\tTraining loss: 7.780\tValidation loss: 8.867\n",
            "\n",
            "EPOCH 87:\tTraining loss: 8.523\tValidation loss: 11.981\n",
            "\n",
            "EPOCH 88:\tTraining loss: 8.092\tValidation loss: 11.449\n",
            "\n",
            "EPOCH 89:\tTraining loss: 8.350\tValidation loss: 9.542\n",
            "\n",
            "EPOCH 90:\tTraining loss: 8.595\tValidation loss: 7.959\n",
            "\n",
            "EPOCH 91:\tTraining loss: 8.565\tValidation loss: 13.802\n",
            "\n",
            "EPOCH 92:\tTraining loss: 8.144\tValidation loss: 9.354\n",
            "\n",
            "EPOCH 93:\tTraining loss: 8.054\tValidation loss: 7.839\n",
            "\n",
            "EPOCH 94:\tTraining loss: 7.099\tValidation loss: 8.501\n",
            "\n",
            "EPOCH 95:\tTraining loss: 7.317\tValidation loss: 9.534\n",
            "\n",
            "EPOCH 96:\tTraining loss: 8.147\tValidation loss: 7.399\n",
            "\n",
            "EPOCH 97:\tTraining loss: 7.708\tValidation loss: 11.559\n",
            "\n",
            "EPOCH 98:\tTraining loss: 7.868\tValidation loss: 10.641\n",
            "\n",
            "EPOCH 99:\tTraining loss: 7.157\tValidation loss: 7.877\n",
            "\n",
            "EPOCH 100:\tTraining loss: 6.789\tValidation loss: 7.276\n"
          ]
        }
      ]
    },
    {
      "cell_type": "code",
      "source": [
        "fig, ax = plt.subplots(2, 2, figsize=(12, 10))\n",
        "ax[0, 0].plot(train_losses, color='green')\n",
        "ax[0, 0].set(xlabel='Epoch', ylabel='Loss')\n",
        "ax[0, 0].set_title('Training Loss')\n",
        "\n",
        "ax[0, 1].plot(val_losses, color='orange')\n",
        "ax[0, 1].set(xlabel='Epoch', ylabel='Loss')\n",
        "ax[0, 1].set_title('Validation Loss')\n",
        "\n",
        "ax[1, 0].plot(train_r2, color='green')\n",
        "ax[1, 0].set(xlabel='Epoch', ylabel='R2')\n",
        "ax[1, 0].set_title('Training R2')\n",
        "\n",
        "ax[1, 1].plot(val_r2, color='orange')\n",
        "ax[1, 1].set(xlabel='Epoch', ylabel='R2')\n",
        "ax[1, 1].set_title('Validation R2')\n",
        "\n",
        "plt.show()"
      ],
      "metadata": {
        "colab": {
          "base_uri": "https://localhost:8080/",
          "height": 872
        },
        "id": "sNMwS5TxugxL",
        "outputId": "4478d6ae-8f27-4102-d7a8-dc154edbeada"
      },
      "execution_count": 52,
      "outputs": [
        {
          "output_type": "display_data",
          "data": {
            "text/plain": [
              "<Figure size 1200x1000 with 4 Axes>"
            ],
            "image/png": "[encoded data removed]"
          },
          "metadata": {}
        }
      ]
    },
    {
      "cell_type": "markdown",
      "source": [
        "## **7. Evaluation**"
      ],
      "metadata": {
        "id": "e40uMzMwuvTH"
      }
    },
    {
      "cell_type": "code",
      "source": [
        "model.eval()\n",
        "with torch.no_grad():\n",
        "    y_hat = model(X_val)\n",
        "    val_set_r2 = r_squared(y_hat, y_val)\n",
        "    print('Evaluation on validation set:')\n",
        "    print(f'R2: {val_set_r2}')"
      ],
      "metadata": {
        "colab": {
          "base_uri": "https://localhost:8080/"
        },
        "id": "qbUR-UmwuumS",
        "outputId": "1abcb167-571b-4ad1-acf7-f133bb1140c5"
      },
      "execution_count": 53,
      "outputs": [
        {
          "output_type": "stream",
          "name": "stdout",
          "text": [
            "Evaluation on validation set:\n",
            "R2: 0.8622123599052429\n"
          ]
        }
      ]
    }
  ]
}