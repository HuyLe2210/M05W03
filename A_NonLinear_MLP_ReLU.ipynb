{
  "nbformat": 4,
  "nbformat_minor": 0,
  "metadata": {
    "colab": {
      "provenance": []
    },
    "kernelspec": {
      "name": "python3",
      "display_name": "Python 3"
    },
    "language_info": {
      "name": "python"
    }
  },
  "cells": [
    {
      "cell_type": "markdown",
      "source": [
        "## **0. Download dataset**"
      ],
      "metadata": {
        "id": "UBAvqN0yvwCz"
      }
    },
    {
      "cell_type": "code",
      "execution_count": 1,
      "metadata": {
        "colab": {
          "base_uri": "https://localhost:8080/"
        },
        "id": "1oHtOo3UvrGo",
        "outputId": "baa44d87-ccb7-48e5-c00c-e14bfd27db18"
      },
      "outputs": [
        {
          "output_type": "stream",
          "name": "stdout",
          "text": [
            "/usr/local/lib/python3.10/dist-packages/gdown/__main__.py:140: FutureWarning: Option `--id` was deprecated in version 4.3.1 and will be removed in 5.0. You don't need to pass it anymore to use a file ID.\n",
            "  warnings.warn(\n",
            "Downloading...\n",
            "From: https://drive.google.com/uc?id=1SqSn_8rxkk-Qvu4JLMcN_3ZFGDNa6P_V\n",
            "To: /content/NonLinear_data.npy\n",
            "100% 5.57k/5.57k [00:00<00:00, 1.57MB/s]\n"
          ]
        }
      ],
      "source": [
        "# https://drive.google.com/file/d/1SqSn_8rxkk-Qvu4JLMcN_3ZFGDNa6P_V/view?usp=sharing\n",
        "!gdown --id 1SqSn_8rxkk-Qvu4JLMcN_3ZFGDNa6P_V"
      ]
    },
    {
      "cell_type": "markdown",
      "source": [
        "## **1. Import libraries**"
      ],
      "metadata": {
        "id": "bFXQ47-xv983"
      }
    },
    {
      "cell_type": "code",
      "source": [
        "import numpy as np\n",
        "import pandas as pd\n",
        "import matplotlib.pyplot as plt\n",
        "import torch\n",
        "import torch.nn as nn\n",
        "import torch.nn.functional as F\n",
        "from torch.utils.data import Dataset, DataLoader\n",
        "\n",
        "from sklearn.model_selection import train_test_split\n",
        "from sklearn.preprocessing import StandardScaler\n",
        "\n",
        "device = torch.device('cuda:0' if torch.cuda.is_available() else 'cpu')\n",
        "random_state = 59\n",
        "np.random.seed(random_state)\n",
        "torch.manual_seed(random_state)\n",
        "if torch.cuda.is_available():\n",
        "    torch.cuda.manual_seed(random_state)"
      ],
      "metadata": {
        "id": "fuJmgTK_wABC"
      },
      "execution_count": 3,
      "outputs": []
    },
    {
      "cell_type": "markdown",
      "source": [
        "## **2. Read dataset**"
      ],
      "metadata": {
        "id": "n7nV3ilewH3e"
      }
    },
    {
      "cell_type": "code",
      "source": [
        "data_path = '/content/NonLinear_data.npy'\n",
        "data = np.load(data_path, allow_pickle=True).item()\n",
        "X, y = data['X'], data['labels']"
      ],
      "metadata": {
        "id": "Kwqz7CPnwITY"
      },
      "execution_count": 4,
      "outputs": []
    },
    {
      "cell_type": "code",
      "source": [
        "X[:10]"
      ],
      "metadata": {
        "colab": {
          "base_uri": "https://localhost:8080/"
        },
        "id": "VYP5hNfGxPIa",
        "outputId": "592bc160-98e4-487b-e35f-de064bdb3cc9"
      },
      "execution_count": 8,
      "outputs": [
        {
          "output_type": "execute_result",
          "data": {
            "text/plain": [
              "array([[ 0.        ,  0.        ],\n",
              "       [ 0.00096008,  0.01005528],\n",
              "       [ 0.01045864,  0.01728405],\n",
              "       [ 0.00087922,  0.03029027],\n",
              "       [ 0.00991727,  0.03916803],\n",
              "       [ 0.00677283,  0.05004887],\n",
              "       [ 0.01419082,  0.05892126],\n",
              "       [ 0.03115796,  0.06347182],\n",
              "       [-0.00803244,  0.08040787],\n",
              "       [ 0.04447445,  0.07928736]])"
            ]
          },
          "metadata": {},
          "execution_count": 8
        }
      ]
    },
    {
      "cell_type": "code",
      "source": [
        "y"
      ],
      "metadata": {
        "colab": {
          "base_uri": "https://localhost:8080/"
        },
        "id": "bqgogC4vyb9H",
        "outputId": "3cb00cbe-a106-4160-f541-a82dbb23889a"
      },
      "execution_count": 9,
      "outputs": [
        {
          "output_type": "execute_result",
          "data": {
            "text/plain": [
              "array([0, 0, 0, 0, 0, 0, 0, 0, 0, 0, 0, 0, 0, 0, 0, 0, 0, 0, 0, 0, 0, 0,\n",
              "       0, 0, 0, 0, 0, 0, 0, 0, 0, 0, 0, 0, 0, 0, 0, 0, 0, 0, 0, 0, 0, 0,\n",
              "       0, 0, 0, 0, 0, 0, 0, 0, 0, 0, 0, 0, 0, 0, 0, 0, 0, 0, 0, 0, 0, 0,\n",
              "       0, 0, 0, 0, 0, 0, 0, 0, 0, 0, 0, 0, 0, 0, 0, 0, 0, 0, 0, 0, 0, 0,\n",
              "       0, 0, 0, 0, 0, 0, 0, 0, 0, 0, 0, 0, 1, 1, 1, 1, 1, 1, 1, 1, 1, 1,\n",
              "       1, 1, 1, 1, 1, 1, 1, 1, 1, 1, 1, 1, 1, 1, 1, 1, 1, 1, 1, 1, 1, 1,\n",
              "       1, 1, 1, 1, 1, 1, 1, 1, 1, 1, 1, 1, 1, 1, 1, 1, 1, 1, 1, 1, 1, 1,\n",
              "       1, 1, 1, 1, 1, 1, 1, 1, 1, 1, 1, 1, 1, 1, 1, 1, 1, 1, 1, 1, 1, 1,\n",
              "       1, 1, 1, 1, 1, 1, 1, 1, 1, 1, 1, 1, 1, 1, 1, 1, 1, 1, 1, 1, 1, 1,\n",
              "       1, 1, 2, 2, 2, 2, 2, 2, 2, 2, 2, 2, 2, 2, 2, 2, 2, 2, 2, 2, 2, 2,\n",
              "       2, 2, 2, 2, 2, 2, 2, 2, 2, 2, 2, 2, 2, 2, 2, 2, 2, 2, 2, 2, 2, 2,\n",
              "       2, 2, 2, 2, 2, 2, 2, 2, 2, 2, 2, 2, 2, 2, 2, 2, 2, 2, 2, 2, 2, 2,\n",
              "       2, 2, 2, 2, 2, 2, 2, 2, 2, 2, 2, 2, 2, 2, 2, 2, 2, 2, 2, 2, 2, 2,\n",
              "       2, 2, 2, 2, 2, 2, 2, 2, 2, 2, 2, 2, 2, 2], dtype=uint8)"
            ]
          },
          "metadata": {},
          "execution_count": 9
        }
      ]
    },
    {
      "cell_type": "code",
      "source": [
        "val_size = 0.2\n",
        "test_size = 0.125\n",
        "is_shuffle = True\n",
        "X_train, X_val, y_train, y_val = train_test_split(\n",
        "    X, y,\n",
        "    test_size = val_size,\n",
        "    random_state = random_state,\n",
        "    shuffle=is_shuffle)\n",
        "X_train, X_test, y_train, y_test = train_test_split(\n",
        "    X_train, y_train,\n",
        "    test_size = test_size,\n",
        "    random_state = random_state,\n",
        "    shuffle=is_shuffle)"
      ],
      "metadata": {
        "id": "8ipw-LsiwL9z"
      },
      "execution_count": 5,
      "outputs": []
    },
    {
      "cell_type": "code",
      "source": [
        "print(f'Number of training samples: {X_train.shape[0]}')\n",
        "print(f'Number of val samples: {X_val.shape[0]}')\n",
        "print(f'Number of test samples: {X_test.shape[0]}')"
      ],
      "metadata": {
        "colab": {
          "base_uri": "https://localhost:8080/"
        },
        "id": "y_lK8IDtwl-X",
        "outputId": "99e05528-51f0-4f4f-c957-71c23c68a27a"
      },
      "execution_count": 6,
      "outputs": [
        {
          "output_type": "stream",
          "name": "stdout",
          "text": [
            "Number of training samples: 210\n",
            "Number of val samples: 60\n",
            "Number of test samples: 30\n"
          ]
        }
      ]
    },
    {
      "cell_type": "markdown",
      "source": [
        "## **4. Data Normalization**"
      ],
      "metadata": {
        "id": "BqSvSoHlyiB7"
      }
    },
    {
      "cell_type": "code",
      "source": [
        "normalizer = StandardScaler()\n",
        "X_train = normalizer.fit_transform(X_train)\n",
        "X_val = normalizer.transform(X_val)\n",
        "X_test = normalizer.transform(X_test)\n",
        "\n",
        "X_train = torch.tensor(X_train, dtype=torch.float32)\n",
        "X_val = torch.tensor(X_val, dtype=torch.float32)\n",
        "X_test = torch.tensor(X_test, dtype=torch.float32)\n",
        "y_train = torch.tensor(y_train, dtype=torch.long)\n",
        "y_val = torch.tensor(y_val, dtype=torch.long)\n",
        "y_test = torch.tensor(y_test, dtype=torch.long)"
      ],
      "metadata": {
        "id": "Y0VQy76pxOAq"
      },
      "execution_count": 10,
      "outputs": []
    },
    {
      "cell_type": "markdown",
      "source": [
        "## **5. Create PyTorch DataLoader**"
      ],
      "metadata": {
        "id": "ksjKGwPozA3n"
      }
    },
    {
      "cell_type": "code",
      "source": [
        "class CustomDataset(Dataset):\n",
        "    def __init__(self, X, y):\n",
        "        self.x = X\n",
        "        self.y = y\n",
        "\n",
        "    def __len__(self):\n",
        "        return len(self.y)\n",
        "\n",
        "    def __getitem__(self, idx):\n",
        "        return self.x[idx], self.y[idx]"
      ],
      "metadata": {
        "id": "-C7RJY8szBxp"
      },
      "execution_count": 14,
      "outputs": []
    },
    {
      "cell_type": "code",
      "source": [
        "batch_size = 64\n",
        "train_dataset = CustomDataset(X_train, y_train)\n",
        "val_dataset = CustomDataset(X_val, y_val)\n",
        "test_dataset = CustomDataset(X_test, y_test)\n",
        "train_loader = DataLoader(train_dataset, batch_size=batch_size, shuffle=True)\n",
        "val_loader = DataLoader(val_dataset, batch_size=batch_size, shuffle=False)\n",
        "test_loader = DataLoader(test_dataset, batch_size=batch_size, shuffle=False)"
      ],
      "metadata": {
        "id": "Twc1oE3-zM7B"
      },
      "execution_count": 28,
      "outputs": []
    },
    {
      "cell_type": "markdown",
      "source": [
        "## **6. Build MLP network**"
      ],
      "metadata": {
        "id": "DRMLmeIz0Ah_"
      }
    },
    {
      "cell_type": "code",
      "source": [
        "class MLP(nn.Module):\n",
        "    def __init__(self, input_dims, hidden_dims, output_dims):\n",
        "        super(MLP, self).__init__()\n",
        "        self.linear1 = nn.Linear(input_dims, hidden_dims)\n",
        "        self.out = nn.Linear(hidden_dims, output_dims)\n",
        "\n",
        "    def forward(self, x):\n",
        "        x = self.linear1(x)\n",
        "        x = F.relu(x)\n",
        "        out = self.out(x)\n",
        "        return out.squeeze(1)"
      ],
      "metadata": {
        "id": "RrE7uohX0A6C"
      },
      "execution_count": 33,
      "outputs": []
    },
    {
      "cell_type": "code",
      "source": [
        "input_dims = X_train.shape[1]\n",
        "hidden_dims = 256\n",
        "output_dims = torch.unique(y_train).shape[0]\n",
        "lr = 1e-1\n",
        "model = MLP(input_dims, hidden_dims, output_dims).to(device)\n",
        "criterion = nn.CrossEntropyLoss()\n",
        "optimizer = torch.optim.SGD(model.parameters(), lr=lr)"
      ],
      "metadata": {
        "id": "WGdHOCD50wuB"
      },
      "execution_count": 34,
      "outputs": []
    },
    {
      "cell_type": "markdown",
      "source": [
        "## **7. Training**"
      ],
      "metadata": {
        "id": "5gFEgnV50n_H"
      }
    },
    {
      "cell_type": "code",
      "source": [
        "def compute_accuracy(y_hat, y_true):\n",
        "    _, y_hat = torch.max(y_hat, dim=1)\n",
        "    correct = (y_hat == y_true).sum().item()\n",
        "    accuracy = (correct / len(y_true))\n",
        "    return accuracy"
      ],
      "metadata": {
        "id": "-5PKt_oY0otq"
      },
      "execution_count": 35,
      "outputs": []
    },
    {
      "cell_type": "code",
      "source": [
        "epochs = 100\n",
        "train_losses = []\n",
        "train_accs = []\n",
        "val_losses = []\n",
        "val_accs = []\n",
        "for epoch in range(epochs):\n",
        "    train_loss = 0.0\n",
        "    train_target = []\n",
        "    train_predict = []\n",
        "    model.train()\n",
        "    for X_samples, y_samples in train_loader:\n",
        "        X_samples = X_samples.to(device)\n",
        "        y_samples = y_samples.to(device)\n",
        "        optimizer.zero_grad()\n",
        "        outputs = model(X_samples)\n",
        "        loss = criterion(outputs, y_samples)\n",
        "        loss.backward()\n",
        "        optimizer.step()\n",
        "        train_loss += loss.item()\n",
        "\n",
        "        train_predict.append(outputs.detach().cpu())\n",
        "        train_target.append(y_samples.cpu())\n",
        "\n",
        "    train_loss /= len(train_loader)\n",
        "    train_losses.append(train_loss)\n",
        "\n",
        "    train_predict = torch.cat(train_predict)\n",
        "    train_target = torch.cat(train_target)\n",
        "    train_acc = compute_accuracy(train_predict, train_target)\n",
        "    train_accs.append(train_acc)\n",
        "\n",
        "    val_loss = 0.0\n",
        "    val_target = []\n",
        "    val_predict = []\n",
        "    model.eval()\n",
        "    with torch.no_grad():\n",
        "        for X_samples, y_samples in val_loader:\n",
        "            X_samples = X_samples.to(device)\n",
        "            y_samples = y_samples.to(device)\n",
        "            outputs = model(X_samples)\n",
        "            val_loss += criterion(outputs, y_samples).item()\n",
        "\n",
        "            val_predict.append(outputs.cpu())\n",
        "            val_target.append(y_samples.cpu())\n",
        "\n",
        "    val_loss /= len(val_loader)\n",
        "    val_losses.append(val_loss)\n",
        "\n",
        "    val_predict = torch.cat(val_predict)\n",
        "    val_target = torch.cat(val_target)\n",
        "    val_acc = compute_accuracy(val_predict, val_target)\n",
        "    val_accs.append(val_acc)\n",
        "\n",
        "    print(f'\\nEPOCH {epoch + 1}:\\tTraining loss: {train_loss:.3f}\\tValidation loss: {val_loss:.3f}')"
      ],
      "metadata": {
        "colab": {
          "base_uri": "https://localhost:8080/"
        },
        "id": "7N9su0Sx14yG",
        "outputId": "0b6db8d8-6829-46cd-abb1-8a0099c2f579"
      },
      "execution_count": 36,
      "outputs": [
        {
          "output_type": "stream",
          "name": "stdout",
          "text": [
            "\n",
            "EPOCH 1:\tTraining loss: 0.907\tValidation loss: 0.858\n",
            "\n",
            "EPOCH 2:\tTraining loss: 0.796\tValidation loss: 1.016\n",
            "\n",
            "EPOCH 3:\tTraining loss: 0.757\tValidation loss: 0.860\n",
            "\n",
            "EPOCH 4:\tTraining loss: 0.667\tValidation loss: 0.766\n",
            "\n",
            "EPOCH 5:\tTraining loss: 0.646\tValidation loss: 0.744\n",
            "\n",
            "EPOCH 6:\tTraining loss: 0.614\tValidation loss: 0.729\n",
            "\n",
            "EPOCH 7:\tTraining loss: 0.670\tValidation loss: 0.702\n",
            "\n",
            "EPOCH 8:\tTraining loss: 0.589\tValidation loss: 0.703\n",
            "\n",
            "EPOCH 9:\tTraining loss: 0.611\tValidation loss: 0.707\n",
            "\n",
            "EPOCH 10:\tTraining loss: 0.614\tValidation loss: 0.654\n",
            "\n",
            "EPOCH 11:\tTraining loss: 0.569\tValidation loss: 0.642\n",
            "\n",
            "EPOCH 12:\tTraining loss: 0.561\tValidation loss: 0.627\n",
            "\n",
            "EPOCH 13:\tTraining loss: 0.573\tValidation loss: 0.599\n",
            "\n",
            "EPOCH 14:\tTraining loss: 0.569\tValidation loss: 0.614\n",
            "\n",
            "EPOCH 15:\tTraining loss: 0.554\tValidation loss: 0.632\n",
            "\n",
            "EPOCH 16:\tTraining loss: 0.528\tValidation loss: 0.549\n",
            "\n",
            "EPOCH 17:\tTraining loss: 0.502\tValidation loss: 0.567\n",
            "\n",
            "EPOCH 18:\tTraining loss: 0.505\tValidation loss: 0.541\n",
            "\n",
            "EPOCH 19:\tTraining loss: 0.492\tValidation loss: 0.531\n",
            "\n",
            "EPOCH 20:\tTraining loss: 0.479\tValidation loss: 0.530\n",
            "\n",
            "EPOCH 21:\tTraining loss: 0.454\tValidation loss: 0.506\n",
            "\n",
            "EPOCH 22:\tTraining loss: 0.427\tValidation loss: 0.490\n",
            "\n",
            "EPOCH 23:\tTraining loss: 0.442\tValidation loss: 0.477\n",
            "\n",
            "EPOCH 24:\tTraining loss: 0.422\tValidation loss: 0.473\n",
            "\n",
            "EPOCH 25:\tTraining loss: 0.415\tValidation loss: 0.463\n",
            "\n",
            "EPOCH 26:\tTraining loss: 0.431\tValidation loss: 0.464\n",
            "\n",
            "EPOCH 27:\tTraining loss: 0.411\tValidation loss: 0.458\n",
            "\n",
            "EPOCH 28:\tTraining loss: 0.408\tValidation loss: 0.437\n",
            "\n",
            "EPOCH 29:\tTraining loss: 0.400\tValidation loss: 0.429\n",
            "\n",
            "EPOCH 30:\tTraining loss: 0.380\tValidation loss: 0.424\n",
            "\n",
            "EPOCH 31:\tTraining loss: 0.409\tValidation loss: 0.425\n",
            "\n",
            "EPOCH 32:\tTraining loss: 0.362\tValidation loss: 0.436\n",
            "\n",
            "EPOCH 33:\tTraining loss: 0.387\tValidation loss: 0.406\n",
            "\n",
            "EPOCH 34:\tTraining loss: 0.369\tValidation loss: 0.422\n",
            "\n",
            "EPOCH 35:\tTraining loss: 0.366\tValidation loss: 0.393\n",
            "\n",
            "EPOCH 36:\tTraining loss: 0.361\tValidation loss: 0.407\n",
            "\n",
            "EPOCH 37:\tTraining loss: 0.362\tValidation loss: 0.396\n",
            "\n",
            "EPOCH 38:\tTraining loss: 0.356\tValidation loss: 0.367\n",
            "\n",
            "EPOCH 39:\tTraining loss: 0.370\tValidation loss: 0.371\n",
            "\n",
            "EPOCH 40:\tTraining loss: 0.353\tValidation loss: 0.359\n",
            "\n",
            "EPOCH 41:\tTraining loss: 0.325\tValidation loss: 0.355\n",
            "\n",
            "EPOCH 42:\tTraining loss: 0.311\tValidation loss: 0.352\n",
            "\n",
            "EPOCH 43:\tTraining loss: 0.311\tValidation loss: 0.345\n",
            "\n",
            "EPOCH 44:\tTraining loss: 0.338\tValidation loss: 0.345\n",
            "\n",
            "EPOCH 45:\tTraining loss: 0.297\tValidation loss: 0.343\n",
            "\n",
            "EPOCH 46:\tTraining loss: 0.299\tValidation loss: 0.333\n",
            "\n",
            "EPOCH 47:\tTraining loss: 0.277\tValidation loss: 0.330\n",
            "\n",
            "EPOCH 48:\tTraining loss: 0.320\tValidation loss: 0.327\n",
            "\n",
            "EPOCH 49:\tTraining loss: 0.288\tValidation loss: 0.327\n",
            "\n",
            "EPOCH 50:\tTraining loss: 0.314\tValidation loss: 0.320\n",
            "\n",
            "EPOCH 51:\tTraining loss: 0.295\tValidation loss: 0.320\n",
            "\n",
            "EPOCH 52:\tTraining loss: 0.269\tValidation loss: 0.313\n",
            "\n",
            "EPOCH 53:\tTraining loss: 0.296\tValidation loss: 0.307\n",
            "\n",
            "EPOCH 54:\tTraining loss: 0.295\tValidation loss: 0.306\n",
            "\n",
            "EPOCH 55:\tTraining loss: 0.290\tValidation loss: 0.301\n",
            "\n",
            "EPOCH 56:\tTraining loss: 0.263\tValidation loss: 0.296\n",
            "\n",
            "EPOCH 57:\tTraining loss: 0.251\tValidation loss: 0.297\n",
            "\n",
            "EPOCH 58:\tTraining loss: 0.267\tValidation loss: 0.292\n",
            "\n",
            "EPOCH 59:\tTraining loss: 0.261\tValidation loss: 0.289\n",
            "\n",
            "EPOCH 60:\tTraining loss: 0.243\tValidation loss: 0.286\n",
            "\n",
            "EPOCH 61:\tTraining loss: 0.242\tValidation loss: 0.289\n",
            "\n",
            "EPOCH 62:\tTraining loss: 0.263\tValidation loss: 0.287\n",
            "\n",
            "EPOCH 63:\tTraining loss: 0.278\tValidation loss: 0.286\n",
            "\n",
            "EPOCH 64:\tTraining loss: 0.268\tValidation loss: 0.273\n",
            "\n",
            "EPOCH 65:\tTraining loss: 0.242\tValidation loss: 0.272\n",
            "\n",
            "EPOCH 66:\tTraining loss: 0.246\tValidation loss: 0.285\n",
            "\n",
            "EPOCH 67:\tTraining loss: 0.236\tValidation loss: 0.274\n",
            "\n",
            "EPOCH 68:\tTraining loss: 0.250\tValidation loss: 0.274\n",
            "\n",
            "EPOCH 69:\tTraining loss: 0.242\tValidation loss: 0.262\n",
            "\n",
            "EPOCH 70:\tTraining loss: 0.242\tValidation loss: 0.262\n",
            "\n",
            "EPOCH 71:\tTraining loss: 0.238\tValidation loss: 0.260\n",
            "\n",
            "EPOCH 72:\tTraining loss: 0.252\tValidation loss: 0.252\n",
            "\n",
            "EPOCH 73:\tTraining loss: 0.234\tValidation loss: 0.253\n",
            "\n",
            "EPOCH 74:\tTraining loss: 0.223\tValidation loss: 0.261\n",
            "\n",
            "EPOCH 75:\tTraining loss: 0.232\tValidation loss: 0.250\n",
            "\n",
            "EPOCH 76:\tTraining loss: 0.215\tValidation loss: 0.254\n",
            "\n",
            "EPOCH 77:\tTraining loss: 0.215\tValidation loss: 0.249\n",
            "\n",
            "EPOCH 78:\tTraining loss: 0.215\tValidation loss: 0.251\n",
            "\n",
            "EPOCH 79:\tTraining loss: 0.203\tValidation loss: 0.245\n",
            "\n",
            "EPOCH 80:\tTraining loss: 0.206\tValidation loss: 0.244\n",
            "\n",
            "EPOCH 81:\tTraining loss: 0.203\tValidation loss: 0.241\n",
            "\n",
            "EPOCH 82:\tTraining loss: 0.209\tValidation loss: 0.240\n",
            "\n",
            "EPOCH 83:\tTraining loss: 0.212\tValidation loss: 0.246\n",
            "\n",
            "EPOCH 84:\tTraining loss: 0.214\tValidation loss: 0.235\n",
            "\n",
            "EPOCH 85:\tTraining loss: 0.212\tValidation loss: 0.237\n",
            "\n",
            "EPOCH 86:\tTraining loss: 0.213\tValidation loss: 0.231\n",
            "\n",
            "EPOCH 87:\tTraining loss: 0.202\tValidation loss: 0.241\n",
            "\n",
            "EPOCH 88:\tTraining loss: 0.207\tValidation loss: 0.232\n",
            "\n",
            "EPOCH 89:\tTraining loss: 0.189\tValidation loss: 0.229\n",
            "\n",
            "EPOCH 90:\tTraining loss: 0.214\tValidation loss: 0.234\n",
            "\n",
            "EPOCH 91:\tTraining loss: 0.213\tValidation loss: 0.236\n",
            "\n",
            "EPOCH 92:\tTraining loss: 0.214\tValidation loss: 0.222\n",
            "\n",
            "EPOCH 93:\tTraining loss: 0.195\tValidation loss: 0.231\n",
            "\n",
            "EPOCH 94:\tTraining loss: 0.186\tValidation loss: 0.220\n",
            "\n",
            "EPOCH 95:\tTraining loss: 0.206\tValidation loss: 0.220\n",
            "\n",
            "EPOCH 96:\tTraining loss: 0.208\tValidation loss: 0.213\n",
            "\n",
            "EPOCH 97:\tTraining loss: 0.195\tValidation loss: 0.213\n",
            "\n",
            "EPOCH 98:\tTraining loss: 0.180\tValidation loss: 0.213\n",
            "\n",
            "EPOCH 99:\tTraining loss: 0.190\tValidation loss: 0.214\n",
            "\n",
            "EPOCH 100:\tTraining loss: 0.180\tValidation loss: 0.214\n"
          ]
        }
      ]
    },
    {
      "cell_type": "code",
      "source": [
        "fig, ax = plt.subplots(2, 2, figsize=(12, 10))\n",
        "ax[0, 0].plot(train_losses, color='green')\n",
        "ax[0, 0].set(xlabel='Epoch', ylabel='Loss')\n",
        "ax[0, 0].set_title('Training Loss')\n",
        "\n",
        "ax[0, 1].plot(val_losses, color='orange')\n",
        "ax[0, 1].set(xlabel='Epoch', ylabel='Loss')\n",
        "ax[0, 1].set_title('Validation Loss')\n",
        "\n",
        "ax[1, 0].plot(train_accs, color='green')\n",
        "ax[1, 0].set(xlabel='Epoch', ylabel='Accuracy')\n",
        "ax[1, 0].set_title('Training Accuracy')\n",
        "\n",
        "ax[1, 1].plot(val_accs, color='orange')\n",
        "ax[1, 1].set(xlabel='Epoch', ylabel='Accuracy')\n",
        "ax[1, 1].set_title('Validation Accuracy')\n",
        "\n",
        "plt.show()"
      ],
      "metadata": {
        "colab": {
          "base_uri": "https://localhost:8080/",
          "height": 872
        },
        "id": "FsJOR1MS1-Ni",
        "outputId": "76dd1df7-1203-4b15-ef5f-17997ae4e101"
      },
      "execution_count": 37,
      "outputs": [
        {
          "output_type": "display_data",
          "data": {
            "text/plain": [
              "<Figure size 1200x1000 with 4 Axes>"
            ],
            "image/png": "[encoded data removed]"
          },
          "metadata": {}
        }
      ]
    },
    {
      "cell_type": "markdown",
      "source": [
        "## **8. Evaluation**"
      ],
      "metadata": {
        "id": "cbjvNAGu2Lyn"
      }
    },
    {
      "cell_type": "code",
      "source": [
        "val_target = []\n",
        "val_predict = []\n",
        "model.eval()\n",
        "with torch.no_grad():\n",
        "    for X_samples, y_samples in val_loader:\n",
        "        X_samples = X_samples.to(device)\n",
        "        y_samples = y_samples.to(device)\n",
        "        outputs = model(X_samples)\n",
        "\n",
        "        val_predict.append(outputs.cpu())\n",
        "        val_target.append(y_samples.cpu())\n",
        "\n",
        "    val_predict = torch.cat(val_predict)\n",
        "    val_target = torch.cat(val_target)\n",
        "    val_acc = compute_accuracy(val_predict, val_target)\n",
        "\n",
        "    print('Evaluation on val set:')\n",
        "    print(f'Accuracy: {val_acc}')"
      ],
      "metadata": {
        "colab": {
          "base_uri": "https://localhost:8080/"
        },
        "id": "NZllQN7r2NfY",
        "outputId": "dd7545fd-f700-4633-9973-c4223b81caca"
      },
      "execution_count": 38,
      "outputs": [
        {
          "output_type": "stream",
          "name": "stdout",
          "text": [
            "Evaluation on val set:\n",
            "Accuracy: 0.9166666666666666\n"
          ]
        }
      ]
    }
  ]
}